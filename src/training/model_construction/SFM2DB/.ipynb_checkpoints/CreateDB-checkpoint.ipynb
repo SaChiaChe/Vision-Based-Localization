{
 "cells": [
  {
   "cell_type": "code",
   "execution_count": 13,
   "id": "d8a5701c",
   "metadata": {},
   "outputs": [],
   "source": [
    "import os\n",
    "import collections\n",
    "import numpy as np\n",
    "import struct\n",
    "import sys\n",
    "import sqlite3\n",
    "import glob\n",
    "import cv2\n",
    "import pickle as pkl\n",
    "from read_write_model import *\n",
    "from database import *"
   ]
  },
  {
   "cell_type": "markdown",
   "id": "2658d39e",
   "metadata": {},
   "source": [
    "# Database"
   ]
  },
  {
   "cell_type": "code",
   "execution_count": 14,
   "id": "bfc0330d",
   "metadata": {
    "scrolled": false
   },
   "outputs": [],
   "source": [
    "def Read_DB(method='Superpoint', database_path = './model/database.db'):\n",
    "    # Open the database.\n",
    "    print(\"Open database\")\n",
    "    db = COLMAPDatabase.connect(database_path)\n",
    "\n",
    "    # For convenience, try creating all the tables upfront.\n",
    "    print(\"Create tables\")\n",
    "    db.create_tables()\n",
    "\n",
    "    # Read and check cameras.\n",
    "    rows = db.execute(\"SELECT * FROM cameras\")\n",
    "\n",
    "    camera_id, model, width, height, params, prior = next(rows)\n",
    "    params = blob_to_array(params, np.float64)\n",
    "    print(camera_id)\n",
    "    print(model)\n",
    "    print(width)\n",
    "    print(height)\n",
    "    print(params)\n",
    "    print(prior)\n",
    "    print(\"\")\n",
    "    \n",
    "    keypoints, images_name, descriptors = None, None, None\n",
    "    \n",
    "    descriptors = None\n",
    "    # Read and check keypoints and images.\n",
    "    if method==\"Superpoint\":\n",
    "        keypoints = dict(\n",
    "            (image_id, blob_to_array(data, np.float32, (-1, 4)))\n",
    "            for image_id, data in db.execute(\n",
    "                \"SELECT image_id, data FROM keypoints\"))\n",
    "        images_name = dict((image_id, image_name)\n",
    "                 for image_id, image_name in db.execute(\"SELECT image_id, name FROM images\"))\n",
    "    elif method==\"SIFT\":\n",
    "        keypoints = dict(\n",
    "            (image_id, blob_to_array(data, np.float32, (-1, 6)))\n",
    "            for image_id, data in db.execute(\n",
    "                \"SELECT image_id, data FROM keypoints\"))\n",
    "        images_name = dict((image_id, image_name)\n",
    "                 for image_id, image_name in db.execute(\"SELECT image_id, name FROM images\"))\n",
    "        descriptors = dict(\n",
    "            (image_id, blob_to_array(data, np.uint8, (-1, 128)))\n",
    "            for image_id, data in db.execute(\n",
    "                \"SELECT image_id, data FROM descriptors\"))\n",
    "    \n",
    "    return keypoints, images_name, descriptors"
   ]
  },
  {
   "cell_type": "code",
   "execution_count": 3,
   "id": "c4cc3772",
   "metadata": {},
   "outputs": [
    {
     "name": "stdout",
     "output_type": "stream",
     "text": [
      "Open database\n",
      "Create tables\n",
      "1\n",
      "4\n",
      "960\n",
      "540\n",
      "[1152. 1152.  480.  270.    0.    0.    0.    0.]\n",
      "0\n",
      "\n",
      "[ 2.7311200e+02  3.0863539e+01 -9.9441075e-01  2.1425991e-01\n",
      " -2.1425991e-01 -9.9441075e-01]\n",
      "(3595, 128)\n",
      "[ 30  23  27   9  13  53  75  98 112  50  17  11  27  85  75  74 120 120\n",
      "  34  22  10   7  11  48  46  57  40  97 120   7   0   7  36  46  63  33\n",
      "  17  18  27  49  93  53  34  36  49  43  22  38 120  72  22  42  24   8\n",
      "   6  65  67  33  21 120 120   0   1  26  12   5   7  10   7   4  11  25\n",
      "  52  15   7  15  29  12  10  26 120  32  20  37  26   3   0  27  34  16\n",
      "  17  92 120   0   1  14   0   0   0   0   0   0   0   0   0   0   0   0\n",
      "   0   0   0   0   0   0   0   0   0   0   0   0   4   0   0   3   5   0\n",
      "   0   2]\n"
     ]
    }
   ],
   "source": [
    "keypoints, images_name, descriptors = Read_DB(method='SIFT', database_path = './model/database.db')\n",
    "\n",
    "print(keypoints[35][144])\n",
    "# print(keypoints[33][1700])\n",
    "# print(\"\")\n",
    "\n",
    "# print(images_name[34])\n",
    "# print(images_name[35])\n",
    "# print(images_name[33])\n",
    "# print(keypoints[34][1254, :2])\n",
    "# print(keypoints[35][1249, :2])\n",
    "# print(keypoints[33][1218, :2])\n",
    "# print(\"\")\n",
    "# print(keypoints[1].shape)\n",
    "print(descriptors[1].shape)\n",
    "print(descriptors[1][0])\n",
    "\n",
    "# para = {}\n",
    "# para['K'] = np.array([[2304., 0, 960],\n",
    "#                   [0, 2304, 540],\n",
    "#                   [0,0,1]])\n",
    "# para['dist'] = np.array([153.09746, 62.043236, -1.9509213, 0.47311273, -0.47311273, -1.9509213])\n",
    "# np.save('./camera_parameter_demo.npy', para)"
   ]
  },
  {
   "cell_type": "markdown",
   "id": "179e6d7e",
   "metadata": {},
   "source": [
    "# Superpoint"
   ]
  },
  {
   "cell_type": "code",
   "execution_count": 4,
   "id": "869518c1",
   "metadata": {
    "scrolled": true
   },
   "outputs": [],
   "source": [
    "from SuperPointDetectors import get_super_points_from_scenes_return"
   ]
  },
  {
   "cell_type": "code",
   "execution_count": 5,
   "id": "49c5f203",
   "metadata": {},
   "outputs": [],
   "source": [
    "def SuperPoint_Ext(images_path = './images'):\n",
    "    # get superpoint:\n",
    "    return get_super_points_from_scenes_return(images_path)"
   ]
  },
  {
   "cell_type": "markdown",
   "id": "c161b0cc",
   "metadata": {},
   "source": [
    "# ORB"
   ]
  },
  {
   "cell_type": "code",
   "execution_count": 4,
   "id": "d45e0998",
   "metadata": {},
   "outputs": [],
   "source": [
    "def img_read(img_path):\n",
    "    img_list = glob.glob(img_path+\"/*\")\n",
    "    img_dict = {}\n",
    "    for img_name in img_list:\n",
    "        temp = cv2.imread(img_name, 0)\n",
    "        name = img_name.split('/')[-1]\n",
    "        img_dict[name] = temp\n",
    "    return img_dict"
   ]
  },
  {
   "cell_type": "markdown",
   "id": "bf29b240",
   "metadata": {},
   "source": [
    "# Create new datafile"
   ]
  },
  {
   "cell_type": "code",
   "execution_count": 15,
   "id": "60732e6f",
   "metadata": {},
   "outputs": [],
   "source": [
    "def create_New_DB(method='SIFT'):\n",
    "    # get 3D model information\n",
    "    input_model = './model/'\n",
    "    input_format = \".bin\"\n",
    "    images_path = './images'\n",
    "    DB_path = './model/database.db'\n",
    "\n",
    "    cameras, images, points3D = read_model(path=input_model, ext=input_format)\n",
    "\n",
    "    print(\"num_cameras:\", len(cameras))\n",
    "    print(\"num_images:\", len(images))\n",
    "    print(\"num_points3D:\", len(points3D))\n",
    "    \n",
    "    if method=='Superpoint':\n",
    "        sps = SuperPoint_Ext(images_path)\n",
    "        keypoints, images_name, descriptors = Read_DB(method='Superpoint', database_path = DB_path)\n",
    "    elif method=='SIFT':\n",
    "        keypoints, images_name, descriptors = Read_DB(method='SIFT', database_path = DB_path)\n",
    "    elif method==\"ORB\":\n",
    "        orb = cv2.ORB_create()\n",
    "        keypoints, images_name, descriptors = Read_DB(method='SIFT', database_path = DB_path)\n",
    "        imgs = img_read(images_path)\n",
    "    else:\n",
    "        print(\"Unsupport method\")\n",
    "        return\n",
    "    \n",
    "    print(\"Create new database\")\n",
    "    if method=='Superpoint':\n",
    "        print(\"Using Superpoint as feature extractor\")\n",
    "    elif method=='SIFT':\n",
    "        print(\"Using SIFT as feature extractor\")\n",
    "    elif method=='ORB':\n",
    "        print(\"Using ORB as feature extractor\")\n",
    "    # newDB element : [id, xyz, rgb, image_id, descriptor]\n",
    "    newDB = []\n",
    "\n",
    "    for i in sorted(points3D.keys()):\n",
    "        point3D = points3D[i]\n",
    "        des = []\n",
    "#         print(point3D[1])\n",
    "#         print(point3D[1][0])\n",
    "        if not( -3.0<point3D[1][0]<-1.0 and -5.0<point3D[1][2]<6.0 ):\n",
    "            continue\n",
    "        # for each image in image_ids\n",
    "        for i in range(len(point3D[4])):\n",
    "            if method=='Superpoint':\n",
    "                des.append(sps[images_name[ point3D[4][i] ]]['descriptors'][ point3D[5][i] ])\n",
    "            elif method=='SIFT':\n",
    "                des.append(descriptors[point3D[4][i]][point3D[5][i]])\n",
    "            elif method=='ORB':\n",
    "                kp = keypoints[point3D[4][i]][point3D[5][i]]\n",
    "                kp = (cv2.KeyPoint(x=kp[0], y=kp[1], size=31.0), )\n",
    "                kp, descriptor = orb.compute(imgs[images_name[ point3D[4][i] ]], kp)\n",
    "                print(descriptor.shape)\n",
    "                return\n",
    "        des = np.asarray(des)\n",
    "        des = np.mean(des, axis=0)\n",
    "        newDB.append([point3D[0], point3D[1], point3D[2], point3D[4], des])\n",
    "\n",
    "    with open('./model.pkl', 'wb') as f:\n",
    "        pkl.dump(newDB, f)\n",
    "    print(\"done\")"
   ]
  },
  {
   "cell_type": "code",
   "execution_count": 16,
   "id": "7c2a40c0",
   "metadata": {
    "scrolled": true
   },
   "outputs": [
    {
     "name": "stdout",
     "output_type": "stream",
     "text": [
      "num_cameras: 1\n",
      "num_images: 641\n",
      "num_points3D: 98878\n",
      "Open database\n",
      "Create tables\n",
      "1\n",
      "4\n",
      "960\n",
      "540\n",
      "[1152. 1152.  480.  270.    0.    0.    0.    0.]\n",
      "0\n",
      "\n",
      "Create new database\n",
      "Using SIFT as feature extractor\n",
      "done\n"
     ]
    }
   ],
   "source": [
    "# create_New_DB(method='Superpoint')\n",
    "# create_New_DB(method='SIFT')\n",
    "create_New_DB(method='SIFT')"
   ]
  },
  {
   "cell_type": "markdown",
   "id": "3c4093a8",
   "metadata": {},
   "source": [
    "# Testing part"
   ]
  },
  {
   "cell_type": "code",
   "execution_count": 44,
   "id": "0a7990e0",
   "metadata": {},
   "outputs": [
    {
     "name": "stdout",
     "output_type": "stream",
     "text": [
      "27350\n",
      "point id\n",
      "2\n",
      "xyz\n",
      "[-1.52218647 -0.6993434  -1.96812293]\n",
      "rgb\n",
      "[ 97 120  78]\n",
      "image_id\n",
      "[  1 465   5   4  12 468  16  17  15 469  18 464]\n",
      "descriptor size\n",
      "(128,)\n"
     ]
    }
   ],
   "source": [
    "# load output database\n",
    "with open('./model.pkl', 'rb') as f:\n",
    "    DB = pkl.load(f)\n",
    "print(len(DB))\n",
    "print(\"point id\")\n",
    "print(DB[0][0])\n",
    "print(\"xyz\")\n",
    "print(DB[0][1])\n",
    "print(\"rgb\")\n",
    "print(DB[0][2])\n",
    "print(\"image_id\")\n",
    "print(DB[0][3])\n",
    "print(\"descriptor size\")\n",
    "print(DB[0][4].shape)"
   ]
  },
  {
   "cell_type": "code",
   "execution_count": 84,
   "id": "a64a0fd9",
   "metadata": {},
   "outputs": [
    {
     "name": "stdout",
     "output_type": "stream",
     "text": [
      "[962. 374.]\n",
      "[992. 382.]\n",
      "[936. 365.]\n",
      "0.40475765\n",
      "0.52647376\n",
      "1.4484185\n"
     ]
    }
   ],
   "source": [
    "# example of extract descriptor\n",
    "print(sps['KPA-3081_01_20220317_014800_414.png']['keypoints'][1254])\n",
    "print(sps['KPA-3081_01_20220317_014800_423.png']['keypoints'][1249])\n",
    "print(sps['KPA-3081_01_20220317_014800_405.png']['keypoints'][1218])\n",
    "des1 = sps['KPA-3081_01_20220317_014800_414.png']['descriptors'][1254]\n",
    "des2 = sps['KPA-3081_01_20220317_014800_423.png']['descriptors'][1249]\n",
    "des3 = sps['KPA-3081_01_20220317_014800_405.png']['descriptors'][1218]\n",
    "des4 = sps['KPA-3081_01_20220317_014800_405.png']['descriptors'][1210]\n",
    "# print(des1)\n",
    "# print(des2)\n",
    "print(np.linalg.norm(des1 - des2))\n",
    "print(np.linalg.norm(des1 - des3))\n",
    "print(np.linalg.norm(des1 - des4))"
   ]
  }
 ],
 "metadata": {
  "kernelspec": {
   "display_name": "Python 3 (ipykernel)",
   "language": "python",
   "name": "python3"
  },
  "language_info": {
   "codemirror_mode": {
    "name": "ipython",
    "version": 3
   },
   "file_extension": ".py",
   "mimetype": "text/x-python",
   "name": "python",
   "nbconvert_exporter": "python",
   "pygments_lexer": "ipython3",
   "version": "3.8.10"
  }
 },
 "nbformat": 4,
 "nbformat_minor": 5
}
